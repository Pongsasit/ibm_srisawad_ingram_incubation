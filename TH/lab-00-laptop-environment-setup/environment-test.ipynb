{
 "cells": [
  {
   "cell_type": "markdown",
   "metadata": {},
   "source": [
    "## Environment Setup Test"
   ]
  },
  {
   "cell_type": "markdown",
   "metadata": {},
   "source": [
    "Run the cell below to validate that you have properly configured your virtual environment"
   ]
  },
  {
   "cell_type": "code",
   "execution_count": 1,
   "metadata": {},
   "outputs": [],
   "source": [
    "import logging\n",
    "import os\n",
    "import pandas as pd\n",
    "import string\n",
    "import random\n",
    "\n",
    "#for UI\n",
    "import streamlit as st\n",
    "from dotenv import load_dotenv\n",
    "from langchain.callbacks import StdOutCallbackHandler\n",
    "from PIL import Image\n",
    "\n",
    "# for PDF Download \n",
    "import tempfile\n",
    "import pickle\n",
    "\n",
    "from langchain.document_loaders import PyPDFLoader\n",
    "from langchain.text_splitter import RecursiveCharacterTextSplitter\n",
    "\n",
    "#for IBM embedding model\n",
    "from ibm_watsonx_ai.metanames import EmbedTextParamsMetaNames\n",
    "from langchain_ibm import WatsonxEmbeddings\n",
    "from ibm_watsonx_ai.client import APIClient\n",
    "from ibm_watsonx_ai.foundation_models import Model\n",
    "\n",
    "# for Milvus \n",
    "from pymilvus import connections, utility, Collection, CollectionSchema, FieldSchema,DataType\n",
    "\n",
    "# for LLM model\n",
    "from ibm_watsonx_ai.foundation_models import Model"
   ]
  },
  {
   "cell_type": "markdown",
   "metadata": {},
   "source": [
    "### Errors above or not?\n",
    "If no errors appear when executing the cell above, then proceed to the next steps in the workshop material.  If errors appear, return to the environment setup screen to ensure you have:\n",
    "1. Install all required libraries as described in that section\n",
    "2. Activated your virtual environment"
   ]
  },
  {
   "cell_type": "markdown",
   "metadata": {},
   "source": [
    "# Check LLM connection"
   ]
  },
  {
   "cell_type": "code",
   "execution_count": 2,
   "metadata": {},
   "outputs": [],
   "source": [
    "load_dotenv()\n",
    "api_key =           os.getenv(\"WATSONX_APIKEY\",         None)\n",
    "ibm_cloud_url =     os.getenv(\"IBM_CLOUD_URL\",          None)\n",
    "project_id =        os.getenv(\"PROJECT_ID\",             None)"
   ]
  },
  {
   "cell_type": "code",
   "execution_count": 3,
   "metadata": {},
   "outputs": [],
   "source": [
    "model_id_llm='meta-llama/llama-3-8b-instruct'\n",
    "creds = {\n",
    "        \"url\": ibm_cloud_url,\n",
    "        \"apikey\": api_key \n",
    "    }"
   ]
  },
  {
   "cell_type": "code",
   "execution_count": 4,
   "metadata": {},
   "outputs": [],
   "source": [
    "model_llm = Model(\n",
    "    model_id = model_id_llm,\n",
    "    params = {\n",
    "        'decoding_method': \"greedy\",\n",
    "        'min_new_tokens': 1,\n",
    "        'max_new_tokens': 400,\n",
    "        'temperature': 0.0,\n",
    "        'repetition_penalty': 1\n",
    "    },\n",
    "    credentials=creds,\n",
    "    project_id=project_id)"
   ]
  },
  {
   "cell_type": "code",
   "execution_count": 5,
   "metadata": {},
   "outputs": [
    {
     "name": "stdout",
     "output_type": "stream",
     "text": [
      " IBM (International Business Machines) is a multinational technology company that provides hardware, software, and services. It is one of the largest and most well-known technology companies in the world. IBM is known for its computers, servers, and software, as well as its consulting and outsourcing services. It was founded in 1911 and is headquartered in Armonk, New York. IBM is often referred to as \"Big Blue\" due to its blue logo and its large size in the technology industry.\n"
     ]
    }
   ],
   "source": [
    "prompt = \"\"\"You are a helpful assistance that would answer user's question with simple explanation. You will be given questions about general knowledge, please answer them shortly and politely\n",
    "question: What is IBM?\n",
    "answer: \"\"\"\n",
    "response = model_llm.generate_text(prompt)\n",
    "print(response)"
   ]
  }
 ],
 "metadata": {
  "kernelspec": {
   "display_name": "Python 3 (ipykernel)",
   "language": "python",
   "name": "python3"
  },
  "language_info": {
   "codemirror_mode": {
    "name": "ipython",
    "version": 3
   },
   "file_extension": ".py",
   "mimetype": "text/x-python",
   "name": "python",
   "nbconvert_exporter": "python",
   "pygments_lexer": "ipython3",
   "version": "3.11.9"
  }
 },
 "nbformat": 4,
 "nbformat_minor": 4
}
