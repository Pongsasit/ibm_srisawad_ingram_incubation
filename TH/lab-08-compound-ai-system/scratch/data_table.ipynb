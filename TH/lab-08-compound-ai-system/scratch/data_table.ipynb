{
 "cells": [
  {
   "cell_type": "code",
   "execution_count": 1,
   "id": "4912e79f-b8e5-44cd-ac86-21eb4ed7f372",
   "metadata": {},
   "outputs": [],
   "source": [
    "import pandas as pd"
   ]
  },
  {
   "cell_type": "code",
   "execution_count": 2,
   "id": "5e7ee1e8-55e9-41cd-811d-24e705f2ba0c",
   "metadata": {},
   "outputs": [
    {
     "name": "stdout",
     "output_type": "stream",
     "text": [
      "00_developmentForSrisawadXIngram.ipynb\n",
      "DataAugmentation.ipynb\n",
      "QueryAndFix.ipynb\n",
      "SearchAndRetrieval_AugmentedGeneration.ipynb\n",
      "auto_ai_car_price_pred.csv\n",
      "catfish.jpeg\n",
      "data_table.ipynb\n",
      "function.py\n",
      "คู่มือการให้เงินกู้ยืมแบบมีรถเป็นสินทรัพย์ค้ำประกัน.docx\n",
      "คู่มือการให้เงินกู้ยืมแบบมีรถเป็นสินทรัพย์ค้ำประกัน.pdf\n"
     ]
    }
   ],
   "source": [
    "ls"
   ]
  },
  {
   "cell_type": "code",
   "execution_count": 3,
   "id": "baf32838-20dd-4aba-af9e-d0a922464b38",
   "metadata": {},
   "outputs": [],
   "source": [
    "df = pd.read_csv('auto_ai_car_price_pred.csv')"
   ]
  },
  {
   "cell_type": "code",
   "execution_count": 7,
   "id": "862fc753-6b82-4650-87e2-1279a33bbe55",
   "metadata": {},
   "outputs": [],
   "source": [
    "dic_use = {}\n",
    "for col in list(df.columns):\n",
    "    dic_use[col] = df[col].unique().tolist()    "
   ]
  },
  {
   "cell_type": "code",
   "execution_count": 9,
   "id": "96e9e29c-2179-412b-8f8d-d4bfc6d036d4",
   "metadata": {
    "scrolled": true
   },
   "outputs": [],
   "source": [
    "import json\n",
    "\n",
    "# Sample dictionary\n",
    "with open('data_use.json', 'w') as json_file:\n",
    "    json.dump(dic_use, json_file, indent=4)"
   ]
  },
  {
   "cell_type": "code",
   "execution_count": 11,
   "id": "eeb8ad48-77e9-46fa-bb80-942e4abbe1e0",
   "metadata": {},
   "outputs": [
    {
     "data": {
      "text/plain": [
       "dict_keys(['Make', 'Model', 'Year', 'Engine Fuel Type', 'Engine HP', 'Engine Cylinders', 'Transmission Type', 'Driven_Wheels', 'Number of Doors', 'Vehicle Size', 'Vehicle Style', 'highway MPG', 'city mpg', 'Popularity', 'MSRP', 'Years Of Manufacture'])"
      ]
     },
     "execution_count": 11,
     "metadata": {},
     "output_type": "execute_result"
    }
   ],
   "source": [
    "dic_use.keys()"
   ]
  },
  {
   "cell_type": "code",
   "execution_count": null,
   "id": "ff201632-e749-442e-9775-25ed9c6f0398",
   "metadata": {},
   "outputs": [],
   "source": []
  }
 ],
 "metadata": {
  "kernelspec": {
   "display_name": "Python 3 (ipykernel)",
   "language": "python",
   "name": "python3"
  },
  "language_info": {
   "codemirror_mode": {
    "name": "ipython",
    "version": 3
   },
   "file_extension": ".py",
   "mimetype": "text/x-python",
   "name": "python",
   "nbconvert_exporter": "python",
   "pygments_lexer": "ipython3",
   "version": "3.11.5"
  }
 },
 "nbformat": 4,
 "nbformat_minor": 5
}
