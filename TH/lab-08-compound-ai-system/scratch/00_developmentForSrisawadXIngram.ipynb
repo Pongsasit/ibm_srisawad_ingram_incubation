{
 "cells": [
  {
   "cell_type": "markdown",
   "id": "c89bb0ed-611c-428f-a44c-d779249bf4be",
   "metadata": {},
   "source": [
    "# RAG Text"
   ]
  },
  {
   "cell_type": "code",
   "execution_count": null,
   "id": "74ad369f-1ff1-42ce-87f1-770d2234b500",
   "metadata": {},
   "outputs": [],
   "source": [
    "import glob, sys, os\n",
    "from elasticsearch import Elasticsearch\n",
    "from requests.auth import HTTPBasicAuth\n",
    "from dotenv import load_dotenv\n",
    "from sentence_transformers import SentenceTransformer, models\n",
    "import ast"
   ]
  },
  {
   "cell_type": "code",
   "execution_count": null,
   "id": "07738498-b3b4-4095-96eb-69a901c69af1",
   "metadata": {},
   "outputs": [],
   "source": [
    "import requests\n",
    "import pandas as pd\n",
    "import itertools\n",
    "from ibm_watson_machine_learning.foundation_models import Model\n",
    "from ibm_watson_machine_learning.metanames import GenTextParamsMetaNames as GenParams"
   ]
  },
  {
   "cell_type": "code",
   "execution_count": null,
   "id": "9497e786-edcd-457d-8563-cd5ec624cb51",
   "metadata": {},
   "outputs": [],
   "source": [
    "load_dotenv()\n",
    "project_id = os.environ[\"PROJECT_ID\"]\n",
    "ibm_cloud_url = os.environ[\"IBM_CLOUD_URL\"]\n",
    "api_key = os.environ[\"API_KEY\"]\n",
    "watsonx_discovery_username=os.environ[\"WATSONX_DISCOVERY_USERNAME\"]\n",
    "watsonx_discovery_password=os.environ[\"WATSONX_DISCOVERY_PASSWORD\"]\n",
    "watsonx_discovery_url=os.environ[\"WATSONX_DISCOVERY_URL\"]\n",
    "watsonx_discovery_port=os.environ[\"WATSONX_DISCOVERY_PORT\"]\n",
    "watsonx_discovery_endpoint = watsonx_discovery_url+':'+watsonx_discovery_port"
   ]
  },
  {
   "cell_type": "code",
   "execution_count": null,
   "id": "fd42c1d1-a0b3-4503-b060-27c19791a455",
   "metadata": {},
   "outputs": [],
   "source": []
  },
  {
   "cell_type": "markdown",
   "id": "95bfeb21-5ef2-49ec-962d-2f525a4e1f39",
   "metadata": {},
   "source": [
    "# Image Model"
   ]
  },
  {
   "cell_type": "code",
   "execution_count": null,
   "id": "7b18d508-dcc0-44ed-afc6-5f5e991b191d",
   "metadata": {},
   "outputs": [],
   "source": [
    "from dotenv import load_dotenv\n",
    "import base64\n",
    "import os\n",
    "import http.client\n",
    "import json\n",
    "import requests\n",
    "\n",
    "load_dotenv()\n",
    "\n",
    "watsonx_api_key = os.getenv(\"WATSONX_APIKEY\", None)\n",
    "ibm_cloud_url = os.getenv(\"IBM_CLOUD_URL\", None)\n",
    "project_id = os.getenv(\"PROJECT_ID\", None)\n",
    "ibm_cloud_iam_url = os.getenv(\"IAM_IBM_CLOUD_URL\", None)\n",
    "chat_url = os.getenv(\"IBM_WATSONX_AI_INFERENCE_URL\", None)\n",
    "### Encode image as base 64\n",
    "\n",
    "pic = open(\"car.png\",\"rb\").read()\n",
    "pic_base64 = base64.b64encode(pic)\n",
    "pic_string = pic_base64.decode(\"utf-8\")"
   ]
  },
  {
   "cell_type": "code",
   "execution_count": null,
   "id": "9ab1bff1-7238-4c45-85f4-76fecee6b1b6",
   "metadata": {},
   "outputs": [],
   "source": [
    "conn_ibm_cloud_iam = http.client.HTTPSConnection(ibm_cloud_iam_url)\n",
    "payload = \"grant_type=urn%3Aibm%3Aparams%3Aoauth%3Agrant-type%3Aapikey&apikey=\"+watsonx_api_key\n",
    "headers = { 'Content-Type': \"application/x-www-form-urlencoded\" }\n",
    "conn_ibm_cloud_iam.request(\"POST\", \"/identity/token\", payload, headers)\n",
    "res = conn_ibm_cloud_iam.getresponse()\n",
    "data = res.read()\n",
    "decoded_json=json.loads(data.decode(\"utf-8\"))\n",
    "access_token=decoded_json[\"access_token\"]"
   ]
  },
  {
   "cell_type": "code",
   "execution_count": null,
   "id": "1a2a25e3-7642-4a2f-9186-7ca87b352f4e",
   "metadata": {},
   "outputs": [],
   "source": [
    "system_content = \"\"\"You always answer the questions with markdown formatting using GitHub syntax. The markdown formatting you support: headings, bold, italic, links, tables, lists, code blocks, and blockquotes. You must omit that you answer the questions with markdown.\\n\\nAny HTML tags must be wrapped in block quotes, for example ```<html>```. You will be penalized for not rendering code in block quotes.\\n\\nWhen returning code blocks, specify language.\\n\\nYou are a helpful, respectful and honest assistant. Always answer as helpfully as possible, while being safe. \\nYour answers should not include any harmful, unethical, racist, sexist, toxic, dangerous, or illegal content. Please ensure that your responses are socially unbiased and positive in nature.\\n\\nIf a question does not make any sense, or is not factually coherent, explain why instead of answering something not correct. If you don'\\''t know the answer to a question, please don'\\''t share false information.\"\"\"\n",
    "user_message = \"\"\"Please 1. Classify what object is this 2. Give a scale of 1-10 how damaged is the car 3. Do we need to change the parts or can fix. Please provide some descriptions\\nAnswer in JSON with format {{'object': 'object_name', 'damage_scale': num, 'description': 'some_description'}}\"\"\"\n",
    "body = {\n",
    "   \"messages\": [\n",
    "      {\n",
    "         \"role\": \"system\",\n",
    "         \"content\": system_content\n",
    "      },\n",
    "      {\n",
    "         \"role\": \"user\",\n",
    "         \"content\": [\n",
    "            {\n",
    "               \"type\": \"text\",\n",
    "               \"text\": user_message,\n",
    "            },\n",
    "            {\n",
    "               \"type\": \"image_url\",\n",
    "               \"image_url\": {\n",
    "                  \"url\": f\"data:image/jpeg;base64, {pic_string}\"\n",
    "               }\n",
    "            }\n",
    "         ]\n",
    "      }\n",
    "   ],\n",
    "   \"project_id\": project_id,\n",
    "   \"model_id\": \"meta-llama/llama3-llava-next-8b-hf\",\n",
    "   \"decoding_method\": \"greedy\",\n",
    "   \"repetition_penalty\": 1.1,\n",
    "   \"max_tokens\": 900\n",
    "}\n",
    "\n",
    "headers = {\n",
    "    \"Accept\": \"application/json\",\n",
    "    \"Content-Type\": \"application/json\",\n",
    "    \"Authorization\": f\"Bearer {access_token}\"\n",
    "}\n",
    "\n",
    "\n",
    "\n",
    "response = requests.post(\n",
    "    chat_url,\n",
    "    headers=headers,\n",
    "    json=body\n",
    ")\n",
    "\n",
    "if response.status_code != 200:\n",
    "    raise Exception(\"Non-200 response: \" + str(response.text))\n",
    "\n",
    "data = response.json()\n",
    "\n",
    "print('---- RESPONSE ----')\n",
    "print(data['choices'][0]['message']['content'])\n"
   ]
  },
  {
   "cell_type": "code",
   "execution_count": null,
   "id": "f3f51bfd-4171-4278-92b2-783bdc01335d",
   "metadata": {},
   "outputs": [],
   "source": []
  }
 ],
 "metadata": {
  "kernelspec": {
   "display_name": "Python 3 (ipykernel)",
   "language": "python",
   "name": "python3"
  },
  "language_info": {
   "codemirror_mode": {
    "name": "ipython",
    "version": 3
   },
   "file_extension": ".py",
   "mimetype": "text/x-python",
   "name": "python",
   "nbconvert_exporter": "python",
   "pygments_lexer": "ipython3",
   "version": "3.11.5"
  }
 },
 "nbformat": 4,
 "nbformat_minor": 5
}
