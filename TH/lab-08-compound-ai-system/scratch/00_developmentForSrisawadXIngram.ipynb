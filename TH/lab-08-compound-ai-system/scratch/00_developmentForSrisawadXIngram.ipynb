{
 "cells": [
  {
   "cell_type": "markdown",
   "id": "c89bb0ed-611c-428f-a44c-d779249bf4be",
   "metadata": {},
   "source": [
    "# RAG Text"
   ]
  },
  {
   "cell_type": "code",
   "execution_count": 2,
   "id": "74ad369f-1ff1-42ce-87f1-770d2234b500",
   "metadata": {},
   "outputs": [],
   "source": [
    "import glob, sys, os\n",
    "from elasticsearch import Elasticsearch\n",
    "from requests.auth import HTTPBasicAuth\n",
    "from dotenv import load_dotenv\n",
    "from sentence_transformers import SentenceTransformer, models\n",
    "from sentence_transformers.cross_encoder import CrossEncoder\n",
    "import ast"
   ]
  },
  {
   "cell_type": "code",
   "execution_count": 3,
   "id": "465b51c8-5ee4-479c-97c5-36b8d1c662f1",
   "metadata": {},
   "outputs": [],
   "source": [
    "# for PDF Download \n",
    "import tempfile\n",
    "from langchain.document_loaders import PyPDFLoader"
   ]
  },
  {
   "cell_type": "code",
   "execution_count": 4,
   "id": "07738498-b3b4-4095-96eb-69a901c69af1",
   "metadata": {},
   "outputs": [],
   "source": [
    "import requests\n",
    "import pandas as pd\n",
    "import itertools\n",
    "from ibm_watson_machine_learning.foundation_models import Model\n",
    "from ibm_watson_machine_learning.metanames import GenTextParamsMetaNames as GenParams"
   ]
  },
  {
   "cell_type": "code",
   "execution_count": 5,
   "id": "9497e786-edcd-457d-8563-cd5ec624cb51",
   "metadata": {},
   "outputs": [],
   "source": [
    "load_dotenv()\n",
    "project_id = os.environ[\"PROJECT_ID\"]\n",
    "ibm_cloud_url = os.environ[\"IBM_CLOUD_URL\"]\n",
    "api_key = os.environ[\"API_KEY\"]\n",
    "watsonx_discovery_username=os.environ[\"WATSONX_DISCOVERY_USERNAME\"]\n",
    "watsonx_discovery_password=os.environ[\"WATSONX_DISCOVERY_PASSWORD\"]\n",
    "watsonx_discovery_url=os.environ[\"WATSONX_DISCOVERY_URL\"]\n",
    "watsonx_discovery_port=os.environ[\"WATSONX_DISCOVERY_PORT\"]\n",
    "watsonx_discovery_endpoint = watsonx_discovery_url+':'+watsonx_discovery_port"
   ]
  },
  {
   "cell_type": "code",
   "execution_count": 5,
   "id": "fd42c1d1-a0b3-4503-b060-27c19791a455",
   "metadata": {},
   "outputs": [],
   "source": [
    "def read_pdf(filepath):\n",
    "        loader = PyPDFLoader(filepath)\n",
    "        data = loader.load()\n",
    "        docs = format_pdf_reader(data)\n",
    "        return docs\n",
    "\n",
    "def split_text_with_overlap(text, chunk_size, overlap_size):\n",
    "    chunks = []\n",
    "    start_index = 0\n",
    "\n",
    "    while start_index < len(text):\n",
    "        end_index = start_index + chunk_size\n",
    "        chunk = text[start_index:end_index]\n",
    "        chunks.append(chunk)\n",
    "        start_index += (chunk_size - overlap_size)\n",
    "    return chunks\n",
    "\n",
    "def import_text_splitter(chunk_size, chunk_overlap):\n",
    "    text_splitter = RecursiveCharacterTextSplitter(\n",
    "        chunk_size=chunk_size,\n",
    "        chunk_overlap=chunk_overlap,\n",
    "        length_function=len,\n",
    "        is_separator_regex=False,\n",
    "        )\n",
    "    return text_splitter\n",
    "\n",
    "def format_pdf_reader(raw_data):\n",
    "    # format content from pdf into text\n",
    "    pdf_text = \"\"\n",
    "    for data in raw_data:\n",
    "        pdf_text+=data.page_content+\"\\n\"\n",
    "    return pdf_text"
   ]
  },
  {
   "cell_type": "code",
   "execution_count": 6,
   "id": "16b37dd3-c957-4ca4-8dae-07dca7611f91",
   "metadata": {},
   "outputs": [],
   "source": [
    "filepath='คู่มือการให้เงินกู้ยืมแบบมีรถเป็นสินทรัพย์ค้ำประกัน.pdf'\n",
    "docs = read_pdf(filepath)\n",
    "chunks = split_text_with_overlap(docs, 1000, 300)"
   ]
  },
  {
   "cell_type": "code",
   "execution_count": 7,
   "id": "f98e4860-69e9-4248-9797-66e08db477d4",
   "metadata": {},
   "outputs": [
    {
     "name": "stdout",
     "output_type": "stream",
     "text": [
      "คู่มือการให้เงินกู้ยืมแบบมีรถเป็นสินทรัพย์คํ>าประกัน บทนํา ข้อกําหนดและเงืCอนไข ข้อกําหนดของผู้กู้ยืม • อายุ 20-60 ปี • มีรายได้ประจํา • มีรถยนต์ทีCมีค่ามากกว่า 100,000 บาท • ไม่มีประวัติเครดิตทีCไม่ดี ขั>นตอนการให้เงินกู้ยืม ขั>นตอนทีC 1: การสมัคร • ผู้กู้ยืมจะต้องกรอกแบบฟอร์มการสมัครและแนบเอกสารทีCจําเป็น เช่น ใบขับขีC, ใบอนุญาตจดทะเบียนรถยนต์, และเอกสารแสดงรายได้ • ผู้ให้กู้ยืมจะต้องตรวจสอบเอกสารและประเมินสินทรัพย์ของผู้กู้ยืม ขั>นตอนทีC 2: การประเมินสินทรัพย์ • ผู้ให้กู้ยืมจะต้องประเมินมูลค่าของรถยนต์ทีCใช้เป็นสินทรัพย์คํ>าประกัน • ผู้ให้กู้ยืมจะต้องตรวจสอบสภาพรถยนต์และเอกสารทีCเกีCยวข้อง ขั>นตอนทีC 3: การอนุมัติ • ผู้ให้กู้ยืมจะต้องอนุมัติการให้เงินกู้ยืมหลังจากประเมินสินทรัพย์และตรวจสอบเอกสาร • ผู้ให้กู้ยืมจะต้องแจ้งให้ผู้กู้ยืมทราบเกีCยวกับผลการอนุมัติ ขั>นตอนทีC 4: การจ่ายเงินกู้ยืม • ผู้ให้กู้ยืมจะต้องจ่ายเงินกู้ยืมให้กับผู้กู้ยืมหลังจากได้รับการอนุมัติ • ผู้กู้ยืมจะต้องชําระคืนเงินกู้ยืมพร้อมดอกเบี>ยภายในระยะเวลาทีCกําหนด  กรณีทีCเงินทีCต้องการกู้มากกว่ามูลค่าของรถ การมีคนคํ>\n"
     ]
    }
   ],
   "source": [
    "print(chunks[0])"
   ]
  },
  {
   "cell_type": "code",
   "execution_count": 8,
   "id": "4cdc6d8d-6d9a-47db-b968-ffbb0eff1b28",
   "metadata": {},
   "outputs": [],
   "source": [
    "model_id_emb=\"kornwtp/simcse-model-phayathaibert\"\n",
    "\n",
    "def get_model(model_name='airesearch/wangchanberta-base-att-spm-uncased', max_seq_length=768, condition=True):\n",
    "    if condition:\n",
    "        # model_name = 'airesearch/wangchanberta-base-att-spm-uncased'\n",
    "        # model_name = \"hkunlp/instructor-large\"\n",
    "        word_embedding_model = models.Transformer(model_name, max_seq_length=max_seq_length)\n",
    "        pooling_model = models.Pooling(word_embedding_model.get_word_embedding_dimension(),pooling_mode='cls') # We use a [CLS] token as representation\n",
    "        model = SentenceTransformer(modules=[word_embedding_model, pooling_model])\n",
    "    return model"
   ]
  },
  {
   "cell_type": "code",
   "execution_count": 9,
   "id": "6b9619a7-0cbd-4858-94b0-514a7f1f0456",
   "metadata": {},
   "outputs": [
    {
     "name": "stderr",
     "output_type": "stream",
     "text": [
      "Special tokens have been added in the vocabulary, make sure the associated word embeddings are fine-tuned or trained.\n"
     ]
    }
   ],
   "source": [
    "embedder_model = get_model(model_name='kornwtp/simcse-model-phayathaibert', max_seq_length=768)\n",
    "reranker_model = CrossEncoder(\"Pongsasit/mod-th-cross-encoder-minilm\")"
   ]
  },
  {
   "cell_type": "code",
   "execution_count": 27,
   "id": "0a3b77cf-c1eb-4d31-992a-d7a795ab3e78",
   "metadata": {},
   "outputs": [
    {
     "name": "stderr",
     "output_type": "stream",
     "text": [
      "/var/folders/fd/03kz31y553v7smxbw59_f8w00000gn/T/ipykernel_76678/3960700089.py:1: DeprecationWarning: The 'http_auth' parameter is deprecated. Use 'basic_auth' or 'bearer_auth' parameters instead\n",
      "  es = Elasticsearch(\n",
      "/Users/pongsasit/anaconda3/envs/itmx_hr/lib/python3.11/site-packages/urllib3/connectionpool.py:1045: InsecureRequestWarning: Unverified HTTPS request is being made to host '85327704-a7e4-4102-b352-906f6cb1d39d.br37s45d0p54n73ffbr0.databases.appdomain.cloud'. Adding certificate verification is strongly advised. See: https://urllib3.readthedocs.io/en/1.26.x/advanced-usage.html#ssl-warnings\n",
      "  warnings.warn(\n"
     ]
    },
    {
     "name": "stdout",
     "output_type": "stream",
     "text": [
      "Connection to Elasticsearch successful\n"
     ]
    }
   ],
   "source": [
    "es = Elasticsearch(\n",
    "    [watsonx_discovery_endpoint],\n",
    "    http_auth=(watsonx_discovery_username, watsonx_discovery_password),\n",
    "    verify_certs=False\n",
    ")\n",
    "\n",
    "if es.ping():\n",
    "    print(\"Connection to Elasticsearch successful\")\n",
    "else:\n",
    "    print(\"Connection to Elasticsearch failed\")"
   ]
  },
  {
   "cell_type": "code",
   "execution_count": 28,
   "id": "540989e8-08ac-4844-8dc7-4ad8bb69a39b",
   "metadata": {},
   "outputs": [
    {
     "name": "stderr",
     "output_type": "stream",
     "text": [
      "/Users/pongsasit/anaconda3/envs/itmx_hr/lib/python3.11/site-packages/urllib3/connectionpool.py:1045: InsecureRequestWarning: Unverified HTTPS request is being made to host '85327704-a7e4-4102-b352-906f6cb1d39d.br37s45d0p54n73ffbr0.databases.appdomain.cloud'. Adding certificate verification is strongly advised. See: https://urllib3.readthedocs.io/en/1.26.x/advanced-usage.html#ssl-warnings\n",
      "  warnings.warn(\n"
     ]
    },
    {
     "name": "stdout",
     "output_type": "stream",
     "text": [
      "{'name': 'm-1.85327704-a7e4-4102-b352-906f6cb1d39d.4f85e5cc8cc641b0a940e985e7b06ede.br37s45d0p54n73ffbr0.databases.appdomain.cloud', 'cluster_name': '85327704-a7e4-4102-b352-906f6cb1d39d', 'cluster_uuid': 'A1ded31mSKuR5ihPH2jxDw', 'version': {'number': '8.12.1', 'build_flavor': 'default', 'build_type': 'tar', 'build_hash': '6185ba65d27469afabc9bc951cded6c17c21e3f3', 'build_date': '2024-02-01T13:07:13.727175297Z', 'build_snapshot': False, 'lucene_version': '9.9.2', 'minimum_wire_compatibility_version': '7.17.0', 'minimum_index_compatibility_version': '7.0.0'}, 'tagline': 'You Know, for Search'}\n"
     ]
    }
   ],
   "source": [
    "print(es.info())"
   ]
  },
  {
   "cell_type": "code",
   "execution_count": 29,
   "id": "31c65ce9-0a56-42f2-9175-17b932b43a02",
   "metadata": {},
   "outputs": [],
   "source": [
    "index_name1 = 'pongsasit_cash_loan_policy'"
   ]
  },
  {
   "cell_type": "code",
   "execution_count": 31,
   "id": "96e54507-82c2-4ba3-b13f-39777cbdc2ff",
   "metadata": {},
   "outputs": [],
   "source": [
    "# pongsasit_cash_loan_policy_dictionary = {\n",
    "#   \"mappings\": {\n",
    "#     \"properties\": {\n",
    "#         \"text_as_reference\": {\"type\": \"text\"},\n",
    "#         \"page_reference\": {\"type\": \"text\"},\n",
    "#         \"embedding\": {\n",
    "#             \"type\": \"dense_vector\",\n",
    "#             \"dims\": 768,\n",
    "#             \"index\": True,\n",
    "#             \"similarity\": \"cosine\"\n",
    "#         }\n",
    "#     }\n",
    "#   }\n",
    "# }\n",
    "\n",
    "# es.indices.create(index=index_name1, body= pongsasit_cash_loan_policy_dictionary)"
   ]
  },
  {
   "cell_type": "code",
   "execution_count": null,
   "id": "f5547934-5e05-4ee9-9f75-5ab5bda71ad0",
   "metadata": {},
   "outputs": [],
   "source": [
    "print(docs)"
   ]
  },
  {
   "cell_type": "code",
   "execution_count": 32,
   "id": "c05dc64f-5cd2-40d6-a19f-4253f4ee9838",
   "metadata": {},
   "outputs": [],
   "source": [
    "embeds = [list(embed) for embed in embedder_model.encode(chunks)]\n",
    "embeds_i = [list(embed) for embed in embedder_model.encode([docs])]"
   ]
  },
  {
   "cell_type": "code",
   "execution_count": 33,
   "id": "5b6156be-363d-4650-a668-a9ded5a513bf",
   "metadata": {},
   "outputs": [],
   "source": [
    "embed_final = embeds.copy()\n",
    "embed_final.extend(embeds_i)"
   ]
  },
  {
   "cell_type": "code",
   "execution_count": 34,
   "id": "5dc29886-df52-431f-970b-7c75f3801f66",
   "metadata": {},
   "outputs": [],
   "source": [
    "page_reference_list = [str(1) for i in range(0, len(embed_final))]"
   ]
  },
  {
   "cell_type": "code",
   "execution_count": 35,
   "id": "3bec6be8-645d-4cdc-9c64-d15578676a7e",
   "metadata": {},
   "outputs": [],
   "source": [
    "text_as_reference_list = chunks.copy()\n",
    "text_as_reference_list.extend([docs])"
   ]
  },
  {
   "cell_type": "code",
   "execution_count": 36,
   "id": "360176e9-bdb3-4bb1-90f2-995a7bde62c8",
   "metadata": {},
   "outputs": [
    {
     "name": "stdout",
     "output_type": "stream",
     "text": [
      "True\n"
     ]
    }
   ],
   "source": [
    "print(len(embed_final)==len(page_reference_list)==len(text_as_reference_list))"
   ]
  },
  {
   "cell_type": "code",
   "execution_count": 37,
   "id": "9c0b0ca0-ab36-44d7-a98c-f7878cce9987",
   "metadata": {},
   "outputs": [
    {
     "name": "stderr",
     "output_type": "stream",
     "text": [
      "/Users/pongsasit/anaconda3/envs/itmx_hr/lib/python3.11/site-packages/urllib3/connectionpool.py:1045: InsecureRequestWarning: Unverified HTTPS request is being made to host '85327704-a7e4-4102-b352-906f6cb1d39d.br37s45d0p54n73ffbr0.databases.appdomain.cloud'. Adding certificate verification is strongly advised. See: https://urllib3.readthedocs.io/en/1.26.x/advanced-usage.html#ssl-warnings\n",
      "  warnings.warn(\n",
      "/Users/pongsasit/anaconda3/envs/itmx_hr/lib/python3.11/site-packages/urllib3/connectionpool.py:1045: InsecureRequestWarning: Unverified HTTPS request is being made to host '85327704-a7e4-4102-b352-906f6cb1d39d.br37s45d0p54n73ffbr0.databases.appdomain.cloud'. Adding certificate verification is strongly advised. See: https://urllib3.readthedocs.io/en/1.26.x/advanced-usage.html#ssl-warnings\n",
      "  warnings.warn(\n",
      "/Users/pongsasit/anaconda3/envs/itmx_hr/lib/python3.11/site-packages/urllib3/connectionpool.py:1045: InsecureRequestWarning: Unverified HTTPS request is being made to host '85327704-a7e4-4102-b352-906f6cb1d39d.br37s45d0p54n73ffbr0.databases.appdomain.cloud'. Adding certificate verification is strongly advised. See: https://urllib3.readthedocs.io/en/1.26.x/advanced-usage.html#ssl-warnings\n",
      "  warnings.warn(\n"
     ]
    }
   ],
   "source": [
    "for text_example, page_ref, embedding in zip(text_as_reference_list, page_reference_list, embed_final):\n",
    "    table_dictionary_doc = {\"text_as_reference\": text_example,\n",
    "                        \"page_reference\": page_ref,\n",
    "                        \"embedding\": embedding\n",
    "                       }\n",
    "    es.index(index=index_name1, body=table_dictionary_doc)"
   ]
  },
  {
   "cell_type": "markdown",
   "id": "95bfeb21-5ef2-49ec-962d-2f525a4e1f39",
   "metadata": {},
   "source": [
    "# Image Model"
   ]
  },
  {
   "cell_type": "code",
   "execution_count": 2,
   "id": "7b18d508-dcc0-44ed-afc6-5f5e991b191d",
   "metadata": {},
   "outputs": [],
   "source": [
    "from dotenv import load_dotenv\n",
    "import base64\n",
    "import os\n",
    "import http.client\n",
    "import json\n",
    "import requests\n",
    "\n",
    "load_dotenv()\n",
    "\n",
    "watsonx_api_key = os.getenv(\"WATSONX_APIKEY\", None)\n",
    "ibm_cloud_url = os.getenv(\"IBM_CLOUD_URL\", None)\n",
    "project_id = os.getenv(\"PROJECT_ID\", None)\n",
    "ibm_cloud_iam_url = os.getenv(\"IAM_IBM_CLOUD_URL\", None)\n",
    "chat_url = os.getenv(\"IBM_WATSONX_AI_INFERENCE_URL\", None)\n",
    "### Encode image as base 64\n",
    "\n",
    "pic = open(\"catfish.jpeg\",\"rb\").read()\n",
    "pic_base64 = base64.b64encode(pic)\n",
    "pic_string = pic_base64.decode(\"utf-8\")"
   ]
  },
  {
   "cell_type": "code",
   "execution_count": 3,
   "id": "9ab1bff1-7238-4c45-85f4-76fecee6b1b6",
   "metadata": {},
   "outputs": [],
   "source": [
    "conn_ibm_cloud_iam = http.client.HTTPSConnection(ibm_cloud_iam_url)\n",
    "payload = \"grant_type=urn%3Aibm%3Aparams%3Aoauth%3Agrant-type%3Aapikey&apikey=\"+watsonx_api_key\n",
    "headers = { 'Content-Type': \"application/x-www-form-urlencoded\" }\n",
    "conn_ibm_cloud_iam.request(\"POST\", \"/identity/token\", payload, headers)\n",
    "res = conn_ibm_cloud_iam.getresponse()\n",
    "data = res.read()\n",
    "decoded_json=json.loads(data.decode(\"utf-8\"))\n",
    "access_token=decoded_json[\"access_token\"]"
   ]
  },
  {
   "cell_type": "code",
   "execution_count": 5,
   "id": "1a2a25e3-7642-4a2f-9186-7ca87b352f4e",
   "metadata": {},
   "outputs": [
    {
     "name": "stdout",
     "output_type": "stream",
     "text": [
      "---- RESPONSE ----\n",
      "I cannot provide a description for an object that is not a car. The image shows a fish, not a car. Therefore, I cannot provide a damage scale or suggest whether to change or fix the parts because there are no car parts in the image.\n"
     ]
    }
   ],
   "source": [
    "system_content = \"\"\"You always answer the questions with markdown formatting using GitHub syntax. The markdown formatting you support: headings, bold, italic, links, tables, lists, code blocks, and blockquotes. You must omit that you answer the questions with markdown.\\n\\nAny HTML tags must be wrapped in block quotes, for example ```<html>```. You will be penalized for not rendering code in block quotes.\\n\\nWhen returning code blocks, specify language.\\n\\nYou are a helpful, respectful and honest assistant. Always answer as helpfully as possible, while being safe. \\nYour answers should not include any harmful, unethical, racist, sexist, toxic, dangerous, or illegal content. Please ensure that your responses are socially unbiased and positive in nature.\\n\\nIf a question does not make any sense, or is not factually coherent, explain why instead of answering something not correct. If you don'\\''t know the answer to a question, please don'\\''t share false information.\"\"\"\n",
    "user_message = \"\"\"Please 1. Classify what object is this 2. Give a scale of 1-10 how damaged is the car 3. Do we need to change the parts or can fix. Please provide some descriptions\\nAnswer in JSON with format {{'object': 'object_name', 'damage_scale': num, 'description': 'some_description'}}\"\"\"\n",
    "body = {\n",
    "   \"messages\": [\n",
    "      {\n",
    "         \"role\": \"system\",\n",
    "         \"content\": system_content\n",
    "      },\n",
    "      {\n",
    "         \"role\": \"user\",\n",
    "         \"content\": [\n",
    "            {\n",
    "               \"type\": \"text\",\n",
    "               \"text\": user_message,\n",
    "            },\n",
    "            {\n",
    "               \"type\": \"image_url\",\n",
    "               \"image_url\": {\n",
    "                  \"url\": f\"data:image/jpeg;base64, {pic_string}\"\n",
    "               }\n",
    "            }\n",
    "         ]\n",
    "      }\n",
    "   ],\n",
    "   \"project_id\": project_id,\n",
    "   \"model_id\": \"meta-llama/llama-3-2-90b-vision-instruct\",\n",
    "   \"decoding_method\": \"greedy\",\n",
    "   \"repetition_penalty\": 1.1,\n",
    "   \"max_tokens\": 900\n",
    "}\n",
    "\n",
    "headers = {\n",
    "    \"Accept\": \"application/json\",\n",
    "    \"Content-Type\": \"application/json\",\n",
    "    \"Authorization\": f\"Bearer {access_token}\"\n",
    "}\n",
    "\n",
    "\n",
    "\n",
    "response = requests.post(\n",
    "    chat_url,\n",
    "    headers=headers,\n",
    "    json=body\n",
    ")\n",
    "\n",
    "if response.status_code != 200:\n",
    "    raise Exception(\"Non-200 response: \" + str(response.text))\n",
    "\n",
    "data = response.json()\n",
    "\n",
    "print('---- RESPONSE ----')\n",
    "print(data['choices'][0]['message']['content'])\n"
   ]
  },
  {
   "cell_type": "markdown",
   "id": "332859e4-42e7-453f-b18b-f03fc85173fe",
   "metadata": {},
   "source": [
    "# AutoAI Part"
   ]
  },
  {
   "cell_type": "code",
   "execution_count": 1,
   "id": "fa7f9938-870d-4c0c-965f-cacffac8de93",
   "metadata": {},
   "outputs": [],
   "source": [
    "payload = {\n",
    "        \"input_data\": [\n",
    "                {\n",
    "                        \"fields\": [\n",
    "                                \"Make\",\n",
    "                                \"Model\",\n",
    "                                \"Year\",\n",
    "                                \"Engine Fuel Type\",\n",
    "                                \"Engine HP\",\n",
    "                                \"Engine Cylinders\",\n",
    "                                \"Transmission Type\",\n",
    "                                \"Driven_Wheels\",\n",
    "                                \"Number of Doors\",\n",
    "                                \"Vehicle Size\",\n",
    "                                \"Vehicle Style\",\n",
    "                                \"highway MPG\",\n",
    "                                \"city mpg\",\n",
    "                                \"Popularity\",\n",
    "                                \"Years Of Manufacture\"\n",
    "                        ],\n",
    "                        \"values\": []\n",
    "                }\n",
    "        ]\n",
    "}"
   ]
  },
  {
   "cell_type": "code",
   "execution_count": 7,
   "id": "6308eb87-cfb8-457d-8291-af4db5d526f6",
   "metadata": {},
   "outputs": [
    {
     "name": "stdout",
     "output_type": "stream",
     "text": [
      "Scoring response\n",
      "{'predictions': [{'fields': ['prediction'], 'values': [[75800.0]]}]}\n"
     ]
    }
   ],
   "source": [
    "import requests\n",
    "\n",
    "# NOTE: you must manually set API_KEY below using information retrieved from your IBM Cloud account (https://dataplatform.cloud.ibm.com/docs/content/wsj/analyze-data/ml-authentication.html)\n",
    "API_KEY = api_key\n",
    "token_response = requests.post('https://iam.cloud.ibm.com/identity/token', data={\"apikey\":\n",
    " API_KEY, \"grant_type\": 'urn:ibm:params:oauth:grant-type:apikey'})\n",
    "mltoken = token_response.json()[\"access_token\"]\n",
    "\n",
    "header = {'Content-Type': 'application/json', 'Authorization': 'Bearer ' + mltoken}\n",
    "\n",
    "# NOTE: manually define and pass the array(s) of values to be scored in the next line\n",
    "payload_scoring = {\"input_data\": [{\"fields\": [\n",
    "                                \"Make\",\n",
    "                                \"Model\",\n",
    "                                \"Year\",\n",
    "                                \"Engine Fuel Type\",\n",
    "                                \"Engine HP\",\n",
    "                                \"Engine Cylinders\",\n",
    "                                \"Transmission Type\",\n",
    "                                \"Driven_Wheels\",\n",
    "                                \"Number of Doors\",\n",
    "                                \"Vehicle Size\",\n",
    "                                \"Vehicle Style\",\n",
    "                                \"highway MPG\",\n",
    "                                \"city mpg\",\n",
    "                                \"Popularity\",\n",
    "                                \"Years Of Manufacture\"\n",
    "                        ], \"values\": [[\n",
    "                                \"BMW\",\n",
    "                                \"1 Series M\",\n",
    "                                \"2011\",\n",
    "                                \"premium unleaded (required)\",\n",
    "                                \"335.0\",\n",
    "                                \"6.0\",\n",
    "                                \"MANUAL\",\n",
    "                                \"rear wheel drive\",\n",
    "                                \"2.0\",\n",
    "                                \"Compact\",\n",
    "                                \"Coupe\",\n",
    "                                \"26\",\n",
    "                                \"19\",\n",
    "                                \"3916\",\n",
    "                                \"10\"\n",
    "                        ] ]}]}\n",
    "\n",
    "response_scoring = requests.post('https://us-south.ml.cloud.ibm.com/ml/v4/deployments/car_price_prediction/predictions?version=2021-05-01', json=payload_scoring,\n",
    " headers={'Authorization': 'Bearer ' + mltoken})\n",
    "print(\"Scoring response\")\n",
    "print(response_scoring.json())"
   ]
  },
  {
   "cell_type": "markdown",
   "id": "3f8e801f-bfec-4b47-a91e-60e1ad4df147",
   "metadata": {},
   "source": [
    "# Develop functions"
   ]
  },
  {
   "cell_type": "code",
   "execution_count": null,
   "id": "02637491-7d0e-40ac-a160-d05b7c8502a2",
   "metadata": {},
   "outputs": [],
   "source": [
    "def final_scoring_function(price_predict, front_result, back_result, left_result, right_result):\n",
    "    divided_price = (price_predict/4)\n",
    "    front_price = divided_price*front_result\n",
    "    back_price = divided_price*back_result\n",
    "    left_price = divided_price*left_result\n",
    "    right_price = divided_price*right_result\n",
    "    sum_price = front_price+back_price+left_price+right_price\n",
    "    return sum_price*35"
   ]
  },
  {
   "cell_type": "code",
   "execution_count": 8,
   "id": "d2ff009f-82f1-4362-901e-16e9c765bc81",
   "metadata": {},
   "outputs": [],
   "source": [
    "def image_scoring_prompt(side, pic_string, chat_url, project_id, access_token):\n",
    "    system_content = \"\"\"You always answer the questions with json formatting using with 2 keys, score and reason. \\n\\nAny JSON tags must be wrapped in block quotes, for example ```{'score': '99', 'reason': 'all good'}```. You will be penalized for not rendering code in block quotes.\\n\\nYou are a helpful, respectful and honest assistant. Always answer as helpfully as possible, while being safe. \\nYour answers should not include any harmful, unethical, racist, sexist, toxic, dangerous, or illegal content. Please ensure that your responses are socially unbiased and positive in nature.\\n\\nIf a question does not make any sense, or is not factually coherent, explain why instead of answering something not correct. If you don'\\''t know the answer to a question, please don'\\''t share false information.\"\"\"\n",
    "    user_message = f\"\"\"The side of the car is {side} side, Please 1. Classify what object is this 2. Give a score of 1-100 for the condition of the part of car when 0 is perfect 3. Do we need to change the parts, can fix, or it is all good. Please provide some descriptions\\nAnswer in JSON with format {{'score': float, 'reason': str}}\"\"\"\n",
    "    body = {\n",
    "       \"messages\": [\n",
    "          {\n",
    "             \"role\": \"system\",\n",
    "             \"content\": system_content\n",
    "          },\n",
    "          {\n",
    "             \"role\": \"user\",\n",
    "             \"content\": [\n",
    "                {\n",
    "                   \"type\": \"text\",\n",
    "                   \"text\": user_message,\n",
    "                },\n",
    "                {\n",
    "                   \"type\": \"image_url\",\n",
    "                   \"image_url\": {\n",
    "                      \"url\": f\"data:image/jpeg;base64, {pic_string}\"\n",
    "                   }\n",
    "                }\n",
    "             ]\n",
    "          }\n",
    "       ],\n",
    "       \"project_id\": project_id,\n",
    "       \"model_id\": \"meta-llama/llama-3-2-90b-vision-instruct\",\n",
    "       \"decoding_method\": \"greedy\",\n",
    "       \"repetition_penalty\": 1.1,\n",
    "       \"max_tokens\": 900\n",
    "    }\n",
    "    headers = {\n",
    "    \"Accept\": \"application/json\",\n",
    "    \"Content-Type\": \"application/json\",\n",
    "    \"Authorization\": f\"Bearer {access_token}\"\n",
    "    }\n",
    "    response = requests.post(\n",
    "        chat_url,\n",
    "        headers=headers,\n",
    "        json=body\n",
    "    )\n",
    "    \n",
    "    if response.status_code != 200:\n",
    "        raise Exception(\"Non-200 response: \" + str(response.text))\n",
    "    \n",
    "    data = response.json()\n",
    "    return  data, data['choices'][0]['message']['content']"
   ]
  },
  {
   "cell_type": "code",
   "execution_count": 9,
   "id": "1abc4d24-7d3a-4bf5-b9b5-e680e21bdc6a",
   "metadata": {},
   "outputs": [],
   "source": [
    "def auto_ai_price_prediction(api_key, make, model, year, engine_fuel_type, engine_hp, engine_cylinder,\n",
    "                            transmission_type, driven_wheels, number_of_doors, vehicle_size,\n",
    "                            vehicle_style, highway_mpg, city_mpg, popularity, age):\n",
    "    API_KEY = api_key\n",
    "    token_response = requests.post('https://iam.cloud.ibm.com/identity/token', data={\"apikey\":\n",
    "    API_KEY, \"grant_type\": 'urn:ibm:params:oauth:grant-type:apikey'})\n",
    "    mltoken = token_response.json()[\"access_token\"]\n",
    "    header = {'Content-Type': 'application/json', 'Authorization': 'Bearer ' + mltoken}\n",
    "    \n",
    "    payload_scoring = {\"input_data\": [{\"fields\": [\n",
    "                                \"Make\",\n",
    "                                \"Model\",\n",
    "                                \"Year\",\n",
    "                                \"Engine Fuel Type\",\n",
    "                                \"Engine HP\",\n",
    "                                \"Engine Cylinders\",\n",
    "                                \"Transmission Type\",\n",
    "                                \"Driven_Wheels\",\n",
    "                                \"Number of Doors\",\n",
    "                                \"Vehicle Size\",\n",
    "                                \"Vehicle Style\",\n",
    "                                \"highway MPG\",\n",
    "                                \"city mpg\",\n",
    "                                \"Popularity\",\n",
    "                                \"Years Of Manufacture\"\n",
    "                        ], \"values\": [[\n",
    "                                str(make),\n",
    "                                str(model),\n",
    "                                str(year),\n",
    "                                str(engine_fuel_type),\n",
    "                                str(engine_hp),\n",
    "                                str(engine_cylinder),\n",
    "                                str(transmission_type),\n",
    "                                str(driven_wheels),\n",
    "                                str(number_of_doors),\n",
    "                                str(vehicle_size),\n",
    "                                str(vehicle_style),\n",
    "                                str(highway_mpg),\n",
    "                                str(city_mpg),\n",
    "                                str(popularity),\n",
    "                                str(age)\n",
    "                        ]]}]}\n",
    "    response_scoring = requests.post('https://us-south.ml.cloud.ibm.com/ml/v4/deployments/car_price_prediction/predictions?version=2021-05-01', \n",
    "                                     json=payload_scoring, headers={'Authorization': 'Bearer ' + mltoken})\n",
    "    data = response_scoring.json()\n",
    "    value = data['predictions'][0]['values'][0][0]\n",
    "    return data, value\n",
    "    "
   ]
  },
  {
   "cell_type": "code",
   "execution_count": 11,
   "id": "6b9171ef-f7a0-4e92-9879-95ca1cab4ed9",
   "metadata": {},
   "outputs": [],
   "source": [
    "#--------generate promt reday to prompt in model\n",
    "def generate_prompt_rag_th(question, context):\n",
    "    output = f\"\"\"**`<|begin_of_text|><|start_header_id|>**system<|end_header_id|>`\n",
    "\n",
    "คุณเป็นผู้ช่วยที่ใจดี โปรดตอบคำถามอย่างใจดีและมีประโยชน์ที่สุดเสมอ พร้อมกับรักษาความปลอดภัย คำตอบของคุณไม่ควรมีเนื้อหาที่เป็นอันตราย ไม่ธรรมดา แบ่งแยกทางเชื้อชาติ ลำเอียงทางเพศ มีพิษ อันตราย หรือผิดกฎหมาย โปรดให้แน่ใจว่าคำตอบของคุณไม่มีอคติทางสังคมและเป็นบวกในธรรมชาติ ถ้าคำถามไม่มีเหตุผล หรือไม่สอดคล้องกับความเป็นจริง โปรดอธิบายเหตุผลแทนที่จะตอบคำถามที่ไม่ถูกต้อง ถ้าคุณไม่ทราบคำตอบของคำถาม โปรดอย่าแชร์ข้อมูลที่ผิด \n",
    "\n",
    "คุณจะได้รับนโยบายการให้กู้เงิน ที่เป็นแหล่งฃ้อมูลในการตอบคำถาม ที่ถูกถามจากผู้ใช้ จงตอบคำถามเป็นภาษาไทย\n",
    "\n",
    "รายละเอียดนโยบายการกู้เงิน:\n",
    "{context}\n",
    "\n",
    "คำถาม: {question}\n",
    "ตอบคำถามโดยใช้ฃ้อมูลจาก \"รายละเอียดนโยบายการกู้เงิน\" อธิบายเหตุผลของคุณ\n",
    "หากคำถามไม่เกี่ยวข้องกับข้อมูลอ้างอิง โปรดตอบว่า “ฉันไม่ทราบคำตอบ, มันไม่ใช่ส่วนหนึ่งของนโยบายการกู้เงินที่ได้รับ”\n",
    "<|eot_id|><|start_header_id|>user<|end_header_id|>\n",
    "สวัสดี<|eot_id|><|start_header_id|>assistant<|end_header_id|>\n",
    "สวัสดีครับผมคือผู้ช่วยของเงินกู้แบบมีสินทรัพย์ค้ำประกัน ครับ กรุณาพิมพ์คำถามของคุณข้างล่างได้เลยครับ<|eot_id|><|start_header_id|>user<|end_header_id|>\n",
    "{question}<|eot_id|><|start_header_id|>assistant<|end_header_id|>\n",
    "    \"\"\"\n",
    "    return output"
   ]
  },
  {
   "cell_type": "code",
   "execution_count": null,
   "id": "e4492a64-f6aa-4913-b67c-3c9f99aa537c",
   "metadata": {},
   "outputs": [],
   "source": []
  }
 ],
 "metadata": {
  "kernelspec": {
   "display_name": "Python 3 (ipykernel)",
   "language": "python",
   "name": "python3"
  },
  "language_info": {
   "codemirror_mode": {
    "name": "ipython",
    "version": 3
   },
   "file_extension": ".py",
   "mimetype": "text/x-python",
   "name": "python",
   "nbconvert_exporter": "python",
   "pygments_lexer": "ipython3",
   "version": "3.11.5"
  }
 },
 "nbformat": 4,
 "nbformat_minor": 5
}
